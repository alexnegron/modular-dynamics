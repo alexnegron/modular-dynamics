{
 "cells": [
  {
   "cell_type": "code",
   "execution_count": 1,
   "metadata": {},
   "outputs": [],
   "source": [
    "import neurogym\n",
    "import warnings\n",
    "warnings.filterwarnings(\"ignore\")  # to suppress warnings\n",
    "import numpy as np\n",
    "import gym\n",
    "import neurogym as ngym\n",
    "from neurogym import spaces\n",
    "from neurogym.wrappers.block import ScheduleEnvs\n",
    "from neurogym.utils import scheduler\n",
    "from neurogym.core import TrialWrapper\n",
    "import torch\n",
    "torch.set_default_tensor_type(torch.DoubleTensor)"
   ]
  },
  {
   "cell_type": "markdown",
   "metadata": {},
   "source": [
    "# Neurogym version of multi-dimensional integration task"
   ]
  },
  {
   "cell_type": "code",
   "execution_count": 91,
   "metadata": {},
   "outputs": [
    {
     "ename": "TypeError",
     "evalue": "'int' object is not iterable",
     "output_type": "error",
     "traceback": [
      "\u001b[0;31m---------------------------------------------------------------------------\u001b[0m",
      "\u001b[0;31mTypeError\u001b[0m                                 Traceback (most recent call last)",
      "Cell \u001b[0;32mIn[91], line 1\u001b[0m\n\u001b[0;32m----> 1\u001b[0m np\u001b[38;5;241m.\u001b[39mzeros([\u001b[38;5;241m1\u001b[39m] \u001b[38;5;241m+\u001b[39m \u001b[38;5;28;43mlist\u001b[39;49m\u001b[43m(\u001b[49m\u001b[38;5;241;43m3\u001b[39;49m\u001b[43m)\u001b[49m, )\n",
      "\u001b[0;31mTypeError\u001b[0m: 'int' object is not iterable"
     ]
    }
   ],
   "source": [
    "np.zeros([1] + self.dim_input * list(self.action_space.shape), )"
   ]
  },
  {
   "cell_type": "code",
   "execution_count": 107,
   "metadata": {},
   "outputs": [
    {
     "data": {
      "text/plain": [
       "array([0., 0., 0., 0., 0., 0., 0., 0., 0., 0., 0., 0.])"
      ]
     },
     "execution_count": 107,
     "metadata": {},
     "output_type": "execute_result"
    }
   ],
   "source": [
    "np.tile(np.zeros([4]), 3)\n"
   ]
  },
  {
   "cell_type": "code",
   "execution_count": 108,
   "metadata": {},
   "outputs": [
    {
     "data": {
      "text/plain": [
       "array([0., 0., 0., 0., 0., 0., 0., 0., 0., 0.])"
      ]
     },
     "execution_count": 108,
     "metadata": {},
     "output_type": "execute_result"
    }
   ],
   "source": [
    "np.tile(np.zeros([5],), 2)"
   ]
  },
  {
   "cell_type": "code",
   "execution_count": null,
   "metadata": {},
   "outputs": [],
   "source": []
  },
  {
   "cell_type": "code",
   "execution_count": 123,
   "metadata": {},
   "outputs": [],
   "source": [
    "import numpy as np\n",
    "import gym\n",
    "import neurogym as ngym\n",
    "from neurogym import spaces\n",
    "from neurogym.wrappers.block import ScheduleEnvs\n",
    "from neurogym.utils import scheduler\n",
    "from neurogym.core import TrialWrapper\n",
    "import torch\n",
    "import matplotlib.pyplot as plt\n",
    "\n",
    "\n",
    "def _get_dist(original_dist):\n",
    "    '''Get the distance in periodic boundary conditions'''\n",
    "    return np.minimum(abs(original_dist), 2 * np.pi - abs(original_dist))\n",
    "\n",
    "\n",
    "def _gaussianbump(loc, theta, strength):\n",
    "    dist = _get_dist(loc - theta)  # periodic boundary\n",
    "    dist /= np.pi / 8\n",
    "    return 0.8 * np.exp(-dist ** 2 / 2) * strength\n",
    "\n",
    "\n",
    "def _cosinebump(loc, theta, strength):\n",
    "    return np.cos(theta - loc) * strength / 2 + 0.5\n",
    "\n",
    "class _MultiModalityStimulus(TrialWrapper):\n",
    "    \"\"\"Move observation to specific modality.\"\"\"\n",
    "    def __init__(self, env, modality=0, n_modality=1):\n",
    "        super().__init__(env)\n",
    "        self.modality = modality\n",
    "        if 'stimulus' not in self.task.observation_space.name:\n",
    "            raise KeyError('observation_space does not have name stimulus')\n",
    "        ind_stimulus = np.array(self.task.observation_space.name['stimulus'])\n",
    "        len_stimulus = len(ind_stimulus)\n",
    "        ob_space = self.task.observation_space\n",
    "        ob_shape = ob_space.shape[0] + (n_modality - 1) * len_stimulus\n",
    "        # Shift stimulus\n",
    "        name = {'fixation': 0,\n",
    "                'stimulus': ind_stimulus + len_stimulus * modality\n",
    "                # 'stimulus' : ind_stimulus \n",
    "        }\n",
    "        self.observation_space = self.task.observation_space = spaces.Box(\n",
    "            -np.inf, np.inf, shape=(ob_shape,), dtype=ob_space.dtype, name=name)\n",
    "\n",
    "    def new_trial(self, **kwargs):\n",
    "        return self.env.new_trial(**kwargs)\n",
    "\n",
    "class EnvWithAdditions(ngym.TrialEnv):\n",
    "          \n",
    "    def _init_gt(self):\n",
    "        \"\"\"Initialize trial with ground_truth.\"\"\"\n",
    "        tmax_ind = int(self._tmax / self.dt)\n",
    "        self.gt = np.zeros([tmax_ind] + list(self.action_space.shape),\n",
    "                           dtype=self.action_space.dtype)\n",
    "        \n",
    "        self._gt_built = True\n",
    "\n",
    "    def my_set_groundtruth(self, value, period=None, where=None, seq=0):\n",
    "        \"\"\"Set groundtruth value.\"\"\"\n",
    "        if not self._gt_built:\n",
    "            self._init_gt()\n",
    "\n",
    "        if where is not None:\n",
    "            # TODO: Only works for Discrete action_space, make it work for Box\n",
    "            value = self.action_space.name[where][value]\n",
    "        if isinstance(period, str):\n",
    "          for t in range(int(self.timing['decision'] / self.dt)):\n",
    "              self.gt[self.start_ind['decision'] + t] = np.mod(value +int(seq * t * self.omega * self.dt), self.dim_ring)\n",
    "\n",
    "        elif period is None:\n",
    "            self.gt[:] = value\n",
    "        else:\n",
    "            for p in period:\n",
    "                self.my_set_groundtruth(value, p)\n",
    "\n",
    "\n",
    "#Go Family\n",
    "class _Reach(EnvWithAdditions):\n",
    "    metadata = {\n",
    "    }\n",
    "\n",
    "    def __init__(self, dt=100, anti=True, rewards=None, timing=None,\n",
    "                 dim_ring=16, dim_input=1, reaction=False, integrate=0, seq=0, dly=False):\n",
    "        super().__init__(dt=dt)\n",
    "\n",
    "        self.anti = anti\n",
    "        self.reaction = reaction\n",
    "        self.omega = 0.01\n",
    "        #self.omega = 0.05 #angular velocity (rad/ms)\n",
    "        self.integrate = integrate\n",
    "        self.seq = seq\n",
    "        self.dt = dt\n",
    "\n",
    "        # Rewards\n",
    "        self.rewards = {'abort': -0.1, 'correct': +1., 'fail': 0.}\n",
    "        if rewards:\n",
    "            self.rewards.update(rewards)\n",
    "\n",
    "        self.timing = {\n",
    "            'fixation': 500,\n",
    "            'stimulus': 500,\n",
    "            'delay' : 500,\n",
    "            'decision': 500}\n",
    "        if not dly:\n",
    "            self.timing['delay'] = 500\n",
    "        if timing:\n",
    "            self.timing.update(timing)\n",
    "\n",
    "        self.abort = False\n",
    "\n",
    "        # action and observation spaces\n",
    "        self.dim_ring = dim_ring\n",
    "        self.dim_input = dim_input \n",
    "        self.theta = np.arange(0, 2 * np.pi, 2 * np.pi / dim_ring)\n",
    "        self.choices = np.arange(dim_ring)\n",
    "\n",
    "        name = {'fixation': 0, 'stimulus': range(1, dim_input * dim_ring + 1)}\n",
    "        self.observation_space = spaces.Box(\n",
    "            -np.inf, np.inf, shape=(1 + dim_input * dim_ring,), dtype=np.float32, name=name)\n",
    "\n",
    "        name = {'fixation': 0, 'choice': range(1, dim_input * dim_ring + 1)}\n",
    "        self.action_space = spaces.Discrete(1 + dim_input * dim_ring, name=name)\n",
    "\n",
    "    def _new_trial(self, **kwargs):\n",
    "      \n",
    "        # Trial info\n",
    "        trial = {\n",
    "            'ground_truth': [self.rng.choice(self.choices) for _ in range(self.dim_input)],\n",
    "            'anti': self.anti,\n",
    "            'integrate': self.integrate,\n",
    "            'seq': self.seq\n",
    "        }\n",
    "\n",
    "        trial.update(kwargs)\n",
    "        if trial['integrate']:\n",
    "            self.timing['delay'] = int(np.random.choice(np.arange(0,1200,100)))\n",
    "\n",
    "        # need to put into a for loop over input in range(dim_input)\n",
    "        stim = np.zeros((self.dim_input * self.dim_ring, ))\n",
    "        for i in range(self.dim_input):\n",
    "            ground_truth = trial['ground_truth'][i]\n",
    "            stim_theta = np.mod(self.theta[ground_truth] + int(trial['integrate']) * self.omega * self.timing['delay'] + int(trial['anti'])*np.pi, 2*np.pi)\n",
    "            stim_this_input = _gaussianbump(stim_theta, self.theta, 1)\n",
    "            stim[i * self.dim_ring : (i + 1) * self.dim_ring] = stim_this_input\n",
    "            \n",
    "        if not self.reaction:\n",
    "            periods = ['fixation', 'stimulus', 'delay', 'decision']\n",
    "            self.add_period(periods)\n",
    "\n",
    "            self.add_ob(1, period=['fixation', 'stimulus', 'delay'], where='fixation')\n",
    "            self.add_ob(stim, period='stimulus', where='stimulus')\n",
    "        \n",
    "        else:\n",
    "            periods = ['fixation', 'decision']\n",
    "            self.add_period(periods)\n",
    "\n",
    "            self.add_ob(1, period='fixation', where='fixation')\n",
    "            self.add_ob(stim, period='decision', where='stimulus')\n",
    "\n",
    "        self.my_set_groundtruth(value=ground_truth, period='decision', where='choice', seq=self.seq)\n",
    "\n",
    "        # # set truth \n",
    "        # tmax_ind = int(self._tmax / self.dt)\n",
    "        # self.gt = np.tile(np.zeros([tmax_ind] + list(self.action_space.shape),\n",
    "        #                    dtype=self.action_space.dtype), self.dim_input)\n",
    "        \n",
    "        # # gt = np.zeros((self.dim_input * self.dim_ring, ))\n",
    "        # for i in range(self.dim_input):\n",
    "        #     ground_truth = trial['ground_truth'][i]\n",
    "        #     gt_this_input = \n",
    "        #     for t in range(int(self.timing['decision'] / self.dt)):\n",
    "        #       self.gt[self.start_ind['decision'] + t] = np.mod(ground_truth +int(self.seq * t * self.omega * self.dt), self.dim_ring)\n",
    "\n",
    "\n",
    "        #     gt[i * self.dim_ring : (i + 1) * self.dim_ring] = ground_truth\n",
    "        # self.gt = gt\n",
    "\n",
    "\n",
    "        return trial\n",
    "\n",
    "\n",
    "    def _step(self, action):\n",
    "        new_trial = False\n",
    "        # rewards\n",
    "        reward = 0\n",
    "        gt = self.gt_now\n",
    "        # observations\n",
    "        if self.in_period('fixation'):\n",
    "            if action != 0:  # action = 0 means fixating\n",
    "                new_trial = self.abort\n",
    "                reward += self.rewards['abort']\n",
    "        elif self.in_period('decision'):\n",
    "            if action != 0:\n",
    "                new_trial = True\n",
    "                if action == gt:\n",
    "                    reward += self.rewards['correct']\n",
    "                    self.performance = 1\n",
    "                else:\n",
    "                    reward += self.rewards['fail']\n",
    "\n",
    "        return self.ob_now, reward, False, {'new_trial': new_trial, 'gt': gt}\n",
    "\n",
    "\n",
    "# Go family tasks\n",
    "def _reach(**kwargs):\n",
    "    # envs = list()\n",
    "    # num_inputs = kwargs['dim_input']\n",
    "    # for modality in [0,1]:\n",
    "    #     env = _Reach(**kwargs)\n",
    "    #     env = _MultiModalityStimulus(env, modality=modality, n_modality=2)\n",
    "    #     envs.append(env)\n",
    "\n",
    "    # schedule = scheduler.RandomSchedule(len(envs))\n",
    "    envs = list()\n",
    "    env = _Reach(**kwargs)\n",
    "    envs.append(env)\n",
    "    schedule = scheduler.RandomSchedule(len(envs))\n",
    "    env = ScheduleEnvs(envs, schedule, env_input=False)\n",
    "    return env\n",
    "\n",
    "def go_1(**kwargs):\n",
    "    env_kwargs = kwargs.copy()\n",
    "    env_kwargs['anti'] = False\n",
    "    env_kwargs['dim_input'] = 1\n",
    "    return _reach(**env_kwargs)\n",
    "\n",
    "def go_2(**kwargs):\n",
    "    env_kwargs = kwargs.copy()\n",
    "    env_kwargs['anti'] = False\n",
    "    env_kwargs['dim_input'] = 2\n",
    "    return _reach(**env_kwargs)\n",
    "\n",
    "\n",
    "def multidim_go(**kwargs):\n",
    "    env_kwargs = kwargs.copy()\n",
    "    env_kwargs['anti'] = False\n",
    "    env_kwargs['dim_input'] = 2\n",
    "    return _reach(**env_kwargs)\n",
    "\n",
    "def dlygo(**kwargs):\n",
    "    env_kwargs = kwargs.copy()\n",
    "    env_kwargs['anti'] = False\n",
    "    env_kwargs['dly'] = True\n",
    "    return _reach(**env_kwargs)\n",
    "\n",
    "def dlygointr(**kwargs):\n",
    "    env_kwargs = kwargs.copy()\n",
    "    env_kwargs['anti'] = False\n",
    "    env_kwargs['integrate'] = 1\n",
    "    env_kwargs['dly'] = True\n",
    "    return _reach(**env_kwargs)"
   ]
  },
  {
   "cell_type": "code",
   "execution_count": 4,
   "metadata": {},
   "outputs": [],
   "source": [
    "from neurogym.utils.scheduler import SequentialSchedule\n",
    "import matplotlib.pyplot as plt\n",
    "import numpy as np"
   ]
  },
  {
   "cell_type": "code",
   "execution_count": 80,
   "metadata": {},
   "outputs": [
    {
     "data": {
      "text/plain": [
       "array([0., 0., 0., 0.])"
      ]
     },
     "execution_count": 80,
     "metadata": {},
     "output_type": "execute_result"
    }
   ],
   "source": [
    "np.zeros([4])"
   ]
  },
  {
   "cell_type": "code",
   "execution_count": 121,
   "metadata": {},
   "outputs": [
    {
     "data": {
      "text/plain": [
       "['__class__',\n",
       " '__class_getitem__',\n",
       " '__contains__',\n",
       " '__delattr__',\n",
       " '__dict__',\n",
       " '__dir__',\n",
       " '__doc__',\n",
       " '__eq__',\n",
       " '__format__',\n",
       " '__ge__',\n",
       " '__getattribute__',\n",
       " '__gt__',\n",
       " '__hash__',\n",
       " '__init__',\n",
       " '__init_subclass__',\n",
       " '__le__',\n",
       " '__lt__',\n",
       " '__module__',\n",
       " '__ne__',\n",
       " '__new__',\n",
       " '__orig_bases__',\n",
       " '__parameters__',\n",
       " '__reduce__',\n",
       " '__reduce_ex__',\n",
       " '__repr__',\n",
       " '__setattr__',\n",
       " '__setstate__',\n",
       " '__sizeof__',\n",
       " '__slotnames__',\n",
       " '__slots__',\n",
       " '__str__',\n",
       " '__subclasshook__',\n",
       " '__weakref__',\n",
       " '_is_protocol',\n",
       " '_np_random',\n",
       " '_shape',\n",
       " 'contains',\n",
       " 'dtype',\n",
       " 'from_jsonable',\n",
       " 'is_np_flattenable',\n",
       " 'n',\n",
       " 'name',\n",
       " 'np_random',\n",
       " 'sample',\n",
       " 'seed',\n",
       " 'shape',\n",
       " 'start',\n",
       " 'to_jsonable']"
      ]
     },
     "execution_count": 121,
     "metadata": {},
     "output_type": "execute_result"
    }
   ],
   "source": [
    "dir(envs[0].action_space)"
   ]
  },
  {
   "cell_type": "code",
   "execution_count": 124,
   "metadata": {},
   "outputs": [],
   "source": [
    "schedule = SequentialSchedule(1)\n",
    "#choose your favorite mod-cog task to test\n",
    "# envs = [dlygointr()]\n",
    "# envs = [go_1()]\n",
    "envs = [go_2()]\n",
    "# envs = [dlyctxrot1_2ring()]\n",
    "env = ScheduleEnvs(envs, schedule=schedule, env_input=False)\n",
    "dataset = ngym.Dataset(env, batch_size=1, seq_len=60)\n",
    "\n",
    "inputs, outputs = dataset()\n",
    "# plt.figure(figsize = (30,50))\n",
    "\n",
    "# plt.imshow(inputs[:,0,1:33].T) #inputs[:,0,>33] are the rule inputs\n",
    "# plt.plot(outputs,'w',lw=2)"
   ]
  },
  {
   "cell_type": "code",
   "execution_count": 125,
   "metadata": {},
   "outputs": [
    {
     "data": {
      "text/plain": [
       "(60, 1, 33)"
      ]
     },
     "execution_count": 125,
     "metadata": {},
     "output_type": "execute_result"
    }
   ],
   "source": [
    "inputs.shape"
   ]
  },
  {
   "cell_type": "code",
   "execution_count": 126,
   "metadata": {},
   "outputs": [
    {
     "data": {
      "text/plain": [
       "(60, 1)"
      ]
     },
     "execution_count": 126,
     "metadata": {},
     "output_type": "execute_result"
    }
   ],
   "source": [
    "outputs.shape"
   ]
  },
  {
   "cell_type": "code",
   "execution_count": 129,
   "metadata": {},
   "outputs": [
    {
     "data": {
      "text/plain": [
       "[<matplotlib.lines.Line2D at 0x1680bd370>]"
      ]
     },
     "execution_count": 129,
     "metadata": {},
     "output_type": "execute_result"
    },
    {
     "data": {
      "image/png": "[encoded data removed]",
      "text/plain": [
       "<Figure size 1000x1000 with 1 Axes>"
      ]
     },
     "metadata": {},
     "output_type": "display_data"
    }
   ],
   "source": [
    "plt.figure(figsize = (10,10))\n",
    "plt.imshow(inputs[:, 0, :].T)\n",
    "plt.plot(outputs, 'w', lw=2)"
   ]
  },
  {
   "cell_type": "code",
   "execution_count": null,
   "metadata": {},
   "outputs": [],
   "source": []
  },
  {
   "cell_type": "code",
   "execution_count": null,
   "metadata": {},
   "outputs": [],
   "source": []
  },
  {
   "cell_type": "code",
   "execution_count": 97,
   "metadata": {},
   "outputs": [],
   "source": [
    "bump_loc_1 = [np.argmax(inputs[t, 0, 1:16+1]) for t in range(inputs.shape[0])]\n",
    "bump_loc_2 = [np.argmax(inputs[t, 0, 17:32+1]) for t in range(inputs.shape[0])]"
   ]
  },
  {
   "cell_type": "code",
   "execution_count": 70,
   "metadata": {},
   "outputs": [
    {
     "data": {
      "text/plain": [
       "(60, 1)"
      ]
     },
     "execution_count": 70,
     "metadata": {},
     "output_type": "execute_result"
    }
   ],
   "source": [
    "outputs.shape"
   ]
  },
  {
   "cell_type": "code",
   "execution_count": 98,
   "metadata": {},
   "outputs": [
    {
     "data": {
      "text/plain": [
       "[<matplotlib.lines.Line2D at 0x157b7a190>]"
      ]
     },
     "execution_count": 98,
     "metadata": {},
     "output_type": "execute_result"
    },
    {
     "data": {
      "image/png": "[encoded data removed]",
      "text/plain": [
       "<Figure size 640x480 with 1 Axes>"
      ]
     },
     "metadata": {},
     "output_type": "display_data"
    }
   ],
   "source": [
    "plt.plot(outputs)"
   ]
  },
  {
   "cell_type": "code",
   "execution_count": 99,
   "metadata": {},
   "outputs": [
    {
     "data": {
      "image/png": "[encoded data removed]",
      "text/plain": [
       "<Figure size 800x300 with 2 Axes>"
      ]
     },
     "metadata": {},
     "output_type": "display_data"
    }
   ],
   "source": [
    "fig, (ax1, ax2) = plt.subplots(2, 1, figsize=(8, 3))\n",
    "\n",
    "ax1.plot(bump_loc_1)\n",
    "ax1.set_ylabel('Bump Location 1')\n",
    "ax1.set_ylim([0, 16])\n",
    "\n",
    "ax2.plot(bump_loc_2)\n",
    "ax2.set_ylabel('Bump Location 2')\n",
    "ax2.set_ylim([0, 16])\n",
    "\n",
    "plt.show()"
   ]
  },
  {
   "cell_type": "code",
   "execution_count": null,
   "metadata": {},
   "outputs": [],
   "source": [
    "schedule = SequentialSchedule(1)\n",
    "#choose your favorite mod-cog task to test\n",
    "# envs = [dlygointr()]\n",
    "envs = [multidim_go()]\n",
    "env = ScheduleEnvs(envs, schedule=schedule, env_input=False)\n",
    "dataset = ngym.Dataset(env, batch_size=1, seq_len=100)\n",
    "\n",
    "inputs, outputs = dataset()\n",
    "# plt.figure(figsize = (30,50))\n",
    "\n",
    "# plt.imshow(inputs[:,0,1:33].T) #inputs[:,0,>33] are the rule inputs\n",
    "# plt.plot(outputs,'w',lw=2)"
   ]
  }
 ],
 "metadata": {
  "kernelspec": {
   "display_name": "torch",
   "language": "python",
   "name": "python3"
  },
  "language_info": {
   "codemirror_mode": {
    "name": "ipython",
    "version": 3
   },
   "file_extension": ".py",
   "mimetype": "text/x-python",
   "name": "python",
   "nbconvert_exporter": "python",
   "pygments_lexer": "ipython3",
   "version": "3.9.18"
  }
 },
 "nbformat": 4,
 "nbformat_minor": 2
}
